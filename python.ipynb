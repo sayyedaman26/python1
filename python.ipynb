{
 "cells": [
  {
   "cell_type": "code",
   "execution_count": null,
   "id": "2bfff053-09a9-46ba-908c-0a799e171ada",
   "metadata": {},
   "outputs": [],
   "source": [
    "list tuples"
   ]
  },
  {
   "cell_type": "code",
   "execution_count": 1,
   "id": "a5423a2c-5ebb-426e-8129-f681ce0fc576",
   "metadata": {},
   "outputs": [
    {
     "data": {
      "text/plain": [
       "[23, 34, 45, 67]"
      ]
     },
     "execution_count": 1,
     "metadata": {},
     "output_type": "execute_result"
    }
   ],
   "source": [
    "a=[23,34,45,67]\n",
    "a"
   ]
  },
  {
   "cell_type": "code",
   "execution_count": 2,
   "id": "827a7aa4-94ec-49b4-ba4e-5d13a9022eda",
   "metadata": {},
   "outputs": [
    {
     "data": {
      "text/plain": [
       "list"
      ]
     },
     "execution_count": 2,
     "metadata": {},
     "output_type": "execute_result"
    }
   ],
   "source": [
    "type(a)"
   ]
  },
  {
   "cell_type": "code",
   "execution_count": 3,
   "id": "aa172f9e-4551-4bdd-9957-51ebcd3c9204",
   "metadata": {},
   "outputs": [
    {
     "data": {
      "text/plain": [
       "['data', True, 80.34, 'Hyderabad', 68, 67, False]"
      ]
     },
     "execution_count": 3,
     "metadata": {},
     "output_type": "execute_result"
    }
   ],
   "source": [
    "c=['data',True,80.34,'Hyderabad',68,67,False,]\n",
    "c"
   ]
  },
  {
   "cell_type": "code",
   "execution_count": 4,
   "id": "2d73802f-4e37-423a-bf93-4bc539624db3",
   "metadata": {},
   "outputs": [
    {
     "data": {
      "text/plain": [
       "'data'"
      ]
     },
     "execution_count": 4,
     "metadata": {},
     "output_type": "execute_result"
    }
   ],
   "source": [
    "c[0]\n"
   ]
  },
  {
   "cell_type": "code",
   "execution_count": 7,
   "id": "4fe0051a-02cd-4701-b3c7-a31b02326c1d",
   "metadata": {},
   "outputs": [
    {
     "data": {
      "text/plain": [
       "['data', True, 80.34, 'Hyderabad', 68, 67]"
      ]
     },
     "execution_count": 7,
     "metadata": {},
     "output_type": "execute_result"
    }
   ],
   "source": [
    "c[0:6]"
   ]
  },
  {
   "cell_type": "code",
   "execution_count": 12,
   "id": "8a821df9-e0a5-44ca-b595-ddee1d1dc35e",
   "metadata": {},
   "outputs": [
    {
     "data": {
      "text/plain": [
       "['data', 80.34, 68, False]"
      ]
     },
     "execution_count": 12,
     "metadata": {},
     "output_type": "execute_result"
    }
   ],
   "source": [
    "c[0:8:2]"
   ]
  },
  {
   "cell_type": "code",
   "execution_count": 18,
   "id": "094bf33f-bbe0-4b43-a5d9-fc98ae79ec98",
   "metadata": {},
   "outputs": [
    {
     "data": {
      "text/plain": [
       "[]"
      ]
     },
     "execution_count": 18,
     "metadata": {},
     "output_type": "execute_result"
    }
   ],
   "source": [
    "c[-4:-8]"
   ]
  },
  {
   "cell_type": "code",
   "execution_count": 19,
   "id": "677c40e7-3a1c-4610-b887-cd6bf9c5a5f1",
   "metadata": {},
   "outputs": [],
   "source": [
    "# list methods"
   ]
  },
  {
   "cell_type": "code",
   "execution_count": null,
   "id": "e2ea16cb-f7f6-4502-9a90-70dfecb46b71",
   "metadata": {},
   "outputs": [],
   "source": [
    "append\n",
    "insert\n",
    "extend\n",
    "pop\n",
    "remove\n",
    "clear\n",
    "count"
   ]
  },
  {
   "cell_type": "code",
   "execution_count": 21,
   "id": "c3624031-f32e-4b8e-954a-8604ef5adb1e",
   "metadata": {},
   "outputs": [],
   "source": [
    "c.append(80)"
   ]
  },
  {
   "cell_type": "code",
   "execution_count": 22,
   "id": "af16d23e-19e8-4ef6-adaf-e619b9d35908",
   "metadata": {},
   "outputs": [
    {
     "data": {
      "text/plain": [
       "['data', True, 80.34, 'Hyderabad', 68, 67, False, 80, 80]"
      ]
     },
     "execution_count": 22,
     "metadata": {},
     "output_type": "execute_result"
    }
   ],
   "source": [
    "c"
   ]
  },
  {
   "cell_type": "code",
   "execution_count": 24,
   "id": "188efc82-bd94-4776-aac7-5fc02024a1c4",
   "metadata": {},
   "outputs": [],
   "source": [
    "c.insert(1,90)"
   ]
  },
  {
   "cell_type": "code",
   "execution_count": 25,
   "id": "117f7ad0-6a8c-46c3-a83d-5302f5fc5b95",
   "metadata": {
    "scrolled": true
   },
   "outputs": [
    {
     "data": {
      "text/plain": [
       "['data', 90, True, 80.34, 'Hyderabad', 68, 67, False, 80, 80]"
      ]
     },
     "execution_count": 25,
     "metadata": {},
     "output_type": "execute_result"
    }
   ],
   "source": [
    "c"
   ]
  },
  {
   "cell_type": "code",
   "execution_count": 2,
   "id": "377c646b-e53f-4ee6-8313-7691ac562292",
   "metadata": {},
   "outputs": [],
   "source": [
    "#tuples"
   ]
  },
  {
   "cell_type": "code",
   "execution_count": 3,
   "id": "ce7afa1a-72ad-445c-a187-43ebf87cbaaa",
   "metadata": {},
   "outputs": [],
   "source": [
    "# there are two functions in  tuples count,index"
   ]
  },
  {
   "cell_type": "code",
   "execution_count": 4,
   "id": "715d1264-1172-49f4-bed4-707c781fe90a",
   "metadata": {},
   "outputs": [
    {
     "data": {
      "text/plain": [
       "(90, 70, 35, 20)"
      ]
     },
     "execution_count": 4,
     "metadata": {},
     "output_type": "execute_result"
    }
   ],
   "source": [
    "h= (90,70,35,20)\n",
    "h"
   ]
  },
  {
   "cell_type": "code",
   "execution_count": 6,
   "id": "e6d9d626-e3b0-43f5-b217-af8bfa5ab460",
   "metadata": {},
   "outputs": [
    {
     "data": {
      "text/plain": [
       "1"
      ]
     },
     "execution_count": 6,
     "metadata": {},
     "output_type": "execute_result"
    }
   ],
   "source": [
    "h.count(20)"
   ]
  },
  {
   "cell_type": "code",
   "execution_count": 8,
   "id": "d4b38024-96c7-4928-be05-5010f300f097",
   "metadata": {},
   "outputs": [
    {
     "data": {
      "text/plain": [
       "2"
      ]
     },
     "execution_count": 8,
     "metadata": {},
     "output_type": "execute_result"
    }
   ],
   "source": [
    "h.index(35)"
   ]
  },
  {
   "cell_type": "code",
   "execution_count": null,
   "id": "3e5822ec-eca1-49b2-94fd-741656d13d3c",
   "metadata": {},
   "outputs": [],
   "source": []
  }
 ],
 "metadata": {
  "kernelspec": {
   "display_name": "Python 3 (ipykernel)",
   "language": "python",
   "name": "python3"
  },
  "language_info": {
   "codemirror_mode": {
    "name": "ipython",
    "version": 3
   },
   "file_extension": ".py",
   "mimetype": "text/x-python",
   "name": "python",
   "nbconvert_exporter": "python",
   "pygments_lexer": "ipython3",
   "version": "3.12.7"
  }
 },
 "nbformat": 4,
 "nbformat_minor": 5
}
