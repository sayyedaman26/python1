{
 "cells": [
  {
   "cell_type": "markdown",
   "id": "4045a194-cd77-4b98-953c-f4a922e95556",
   "metadata": {},
   "source": [
    "if condition1:\n",
    "    task1 block of code\n",
    "elif condition2:\n",
    "    task2 block of code\n",
    "elif condition3:\n",
    "    task3 block of code\n",
    "else:\n",
    "    task4 block of code"
   ]
  },
  {
   "cell_type": "code",
   "execution_count": 2,
   "id": "3d114334-d886-4b18-9d01-0268123b6071",
   "metadata": {},
   "outputs": [
    {
     "name": "stdout",
     "output_type": "stream",
     "text": [
      "odd\n"
     ]
    }
   ],
   "source": [
    "x=9\n",
    "if x%2==0:\n",
    "    print(\"Even\")\n",
    "else:\n",
    "    print(\"odd\")"
   ]
  },
  {
   "cell_type": "code",
   "execution_count": 3,
   "id": "8bba2af5-3471-469e-8631-b516e4009c86",
   "metadata": {},
   "outputs": [
    {
     "data": {
      "text/plain": [
       "False"
      ]
     },
     "execution_count": 3,
     "metadata": {},
     "output_type": "execute_result"
    }
   ],
   "source": [
    "x%2==0"
   ]
  },
  {
   "cell_type": "code",
   "execution_count": 4,
   "id": "8938eb08-1f11-4ee3-b42e-9bad6505e10e",
   "metadata": {},
   "outputs": [
    {
     "name": "stdout",
     "output_type": "stream",
     "text": [
      "neg\n"
     ]
    }
   ],
   "source": [
    "x=-5.8\n",
    "if x>0:\n",
    "    print('pos')\n",
    "elif x<0:\n",
    "    print('neg')\n",
    "else:\n",
    "    print('zero')"
   ]
  },
  {
   "cell_type": "code",
   "execution_count": 5,
   "id": "02eb3746-a851-490f-ba23-c9ff8bdbacd1",
   "metadata": {},
   "outputs": [],
   "source": [
    "y=10"
   ]
  },
  {
   "cell_type": "code",
   "execution_count": 6,
   "id": "283f370d-9995-42a9-b0e6-6271a780a687",
   "metadata": {},
   "outputs": [
    {
     "data": {
      "text/plain": [
       "10"
      ]
     },
     "execution_count": 6,
     "metadata": {},
     "output_type": "execute_result"
    }
   ],
   "source": [
    "y"
   ]
  },
  {
   "cell_type": "code",
   "execution_count": 11,
   "id": "7666b32c-6156-4ac8-8ddb-17164f09a412",
   "metadata": {},
   "outputs": [
    {
     "name": "stdout",
     "output_type": "stream",
     "text": [
      "pos\n",
      "m\n",
      "q\n"
     ]
    }
   ],
   "source": [
    "x=30\n",
    "if x>0:\n",
    "    print('pos')\n",
    "    if x>10:\n",
    "        print('m')\n",
    "    if x>20:\n",
    "        print('q')\n",
    "    if x<10:\n",
    "        print('x')"
   ]
  },
  {
   "cell_type": "code",
   "execution_count": 12,
   "id": "61e41768-2bbf-40d3-863a-2c98dff8885d",
   "metadata": {},
   "outputs": [
    {
     "name": "stdout",
     "output_type": "stream",
     "text": [
      "z\n"
     ]
    }
   ],
   "source": [
    "if x<-20:\n",
    "x    print('q')\n",
    "elif x>-10:\n",
    "    print('z')\n",
    "elif x>-300:\n",
    "    print('x')\n",
    "else:\n",
    "    print('zero')"
   ]
  },
  {
   "cell_type": "code",
   "execution_count": 18,
   "id": "d65cfab8-0203-4dc8-8c81-71a0a313586e",
   "metadata": {},
   "outputs": [],
   "source": [
    "x='teleangana'\n",
    "x='tiger'\n",
    "x='tan'"
   ]
  },
  {
   "cell_type": "code",
   "execution_count": 19,
   "id": "f1224b55-87cf-4f42-afcc-7126f955f04a",
   "metadata": {},
   "outputs": [
    {
     "data": {
      "text/plain": [
       "'tan'"
      ]
     },
     "execution_count": 19,
     "metadata": {},
     "output_type": "execute_result"
    }
   ],
   "source": [
    "x"
   ]
  },
  {
   "cell_type": "code",
   "execution_count": 20,
   "id": "8c97225d-2460-4c64-98e2-641fa58f5c94",
   "metadata": {},
   "outputs": [],
   "source": [
    "x='lion'\n",
    "x='mumbai'"
   ]
  },
  {
   "cell_type": "code",
   "execution_count": 21,
   "id": "5291b25d-0d3a-46b5-a9f9-30112afa2c1b",
   "metadata": {},
   "outputs": [
    {
     "data": {
      "text/plain": [
       "'mumbai'"
      ]
     },
     "execution_count": 21,
     "metadata": {},
     "output_type": "execute_result"
    }
   ],
   "source": [
    "x"
   ]
  },
  {
   "cell_type": "code",
   "execution_count": 26,
   "id": "0f124e21-d4c9-484f-be4b-e1c8ffdab19c",
   "metadata": {},
   "outputs": [
    {
     "name": "stdin",
     "output_type": "stream",
     "text": [
      "Enter username:  Teleangana\n"
     ]
    }
   ],
   "source": [
    "username=input(\"Enter username: \")"
   ]
  },
  {
   "cell_type": "code",
   "execution_count": 25,
   "id": "38ca06d3-19ac-4a9d-839c-bb99a866de9d",
   "metadata": {},
   "outputs": [
    {
     "name": "stdout",
     "output_type": "stream",
     "text": [
      "Yes\n"
     ]
    }
   ],
   "source": [
    "x='tiger'\n",
    "if x[0]=='t' or x[0]=='T':\n",
    "    print(\"Yes\")\n",
    "else:\n",
    "    print('No')"
   ]
  },
  {
   "cell_type": "code",
   "execution_count": 28,
   "id": "7d67dc84-c7c4-4da1-9d32-2eb5ac026b03",
   "metadata": {},
   "outputs": [
    {
     "name": "stdout",
     "output_type": "stream",
     "text": [
      "yes\n"
     ]
    }
   ],
   "source": [
    "x='Tiger'\n",
    "if x[0].lower()=='t':\n",
    "    print('yes')\n",
    "else:\n",
    "    print('no')"
   ]
  },
  {
   "cell_type": "raw",
   "id": "3c893ebf-6ef6-44b7-8678-f8324f4f708b",
   "metadata": {},
   "source": []
  }
 ],
 "metadata": {
  "kernelspec": {
   "display_name": "Python 3 (ipykernel)",
   "language": "python",
   "name": "python3"
  },
  "language_info": {
   "codemirror_mode": {
    "name": "ipython",
    "version": 3
   },
   "file_extension": ".py",
   "mimetype": "text/x-python",
   "name": "python",
   "nbconvert_exporter": "python",
   "pygments_lexer": "ipython3",
   "version": "3.12.7"
  }
 },
 "nbformat": 4,
 "nbformat_minor": 5
}
