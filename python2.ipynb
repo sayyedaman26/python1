{
 "cells": [
  {
   "cell_type": "code",
   "execution_count": 1,
   "id": "f6f05684-3eea-463a-ac9c-423197c53180",
   "metadata": {},
   "outputs": [],
   "source": [
    "#dictionary"
   ]
  },
  {
   "cell_type": "code",
   "execution_count": 2,
   "id": "9e303478-ec14-421b-83d1-f9f83551c849",
   "metadata": {},
   "outputs": [
    {
     "data": {
      "text/plain": [
       "{104: 4, 103: 7, 'B': 2}"
      ]
     },
     "execution_count": 2,
     "metadata": {},
     "output_type": "execute_result"
    }
   ],
   "source": [
    "d={104: 4,103:7,'B':2}\n",
    "d"
   ]
  },
  {
   "cell_type": "code",
   "execution_count": 3,
   "id": "6f2e90dc-3243-43c0-aebb-789873070ae4",
   "metadata": {},
   "outputs": [
    {
     "data": {
      "text/plain": [
       "{104: 4, 103: 'India', 'B': 2}"
      ]
     },
     "execution_count": 3,
     "metadata": {},
     "output_type": "execute_result"
    }
   ],
   "source": [
    "d.update({103: 'India'})\n",
    "d"
   ]
  },
  {
   "cell_type": "code",
   "execution_count": 5,
   "id": "2e7b0255-7165-49d2-ac20-9251c5f16ce7",
   "metadata": {},
   "outputs": [
    {
     "data": {
      "text/plain": [
       "4"
      ]
     },
     "execution_count": 5,
     "metadata": {},
     "output_type": "execute_result"
    }
   ],
   "source": [
    "d[104]"
   ]
  },
  {
   "cell_type": "code",
   "execution_count": 7,
   "id": "455f9c3e-2a50-4a1a-8621-a2f09ca253b6",
   "metadata": {},
   "outputs": [],
   "source": [
    "d[101]=200"
   ]
  },
  {
   "cell_type": "code",
   "execution_count": 8,
   "id": "d94873ae-625e-4569-9ae8-d4fe7bf7751b",
   "metadata": {},
   "outputs": [],
   "source": [
    "d.update({})"
   ]
  },
  {
   "cell_type": "code",
   "execution_count": 9,
   "id": "e699030a-fef7-410f-9c0e-ee6271524460",
   "metadata": {},
   "outputs": [
    {
     "data": {
      "text/plain": [
       "{104: 4, 103: 'India', 'B': 2, 101: 200}"
      ]
     },
     "execution_count": 9,
     "metadata": {},
     "output_type": "execute_result"
    }
   ],
   "source": [
    "d"
   ]
  },
  {
   "cell_type": "code",
   "execution_count": 11,
   "id": "4feef2e2-a289-43a3-b772-2d96afe89996",
   "metadata": {},
   "outputs": [],
   "source": [
    "del d[104]"
   ]
  },
  {
   "cell_type": "code",
   "execution_count": 12,
   "id": "612ca7a3-1831-4fae-946e-814e9cbfa023",
   "metadata": {},
   "outputs": [
    {
     "data": {
      "text/plain": [
       "{103: 'India', 'B': 2, 101: 200}"
      ]
     },
     "execution_count": 12,
     "metadata": {},
     "output_type": "execute_result"
    }
   ],
   "source": [
    "d"
   ]
  },
  {
   "cell_type": "code",
   "execution_count": 16,
   "id": "75e5cd07-0587-4d90-9651-cd27b5e47dba",
   "metadata": {},
   "outputs": [],
   "source": [
    "d[104]= [200,3000,4000,5000]"
   ]
  },
  {
   "cell_type": "code",
   "execution_count": 17,
   "id": "05377703-013d-4036-856d-d3f0b576be3c",
   "metadata": {},
   "outputs": [
    {
     "data": {
      "text/plain": [
       "{103: 'India', 'B': 2, 101: 200, 104: [200, 3000, 4000, 5000]}"
      ]
     },
     "execution_count": 17,
     "metadata": {},
     "output_type": "execute_result"
    }
   ],
   "source": [
    "d"
   ]
  },
  {
   "cell_type": "code",
   "execution_count": 18,
   "id": "0455446c-e92c-4ee7-8f42-9d72a7bc20d3",
   "metadata": {},
   "outputs": [
    {
     "data": {
      "text/plain": [
       "dict"
      ]
     },
     "execution_count": 18,
     "metadata": {},
     "output_type": "execute_result"
    }
   ],
   "source": [
    "type(d)"
   ]
  },
  {
   "cell_type": "code",
   "execution_count": 19,
   "id": "9b2e40a8-0d82-4830-96dc-cb466f79ccb9",
   "metadata": {},
   "outputs": [
    {
     "data": {
      "text/plain": [
       "str"
      ]
     },
     "execution_count": 19,
     "metadata": {},
     "output_type": "execute_result"
    }
   ],
   "source": [
    "type(d[103])"
   ]
  },
  {
   "cell_type": "code",
   "execution_count": 20,
   "id": "7615e7f9-2cfc-4b55-94d8-33d4b60e0c0c",
   "metadata": {},
   "outputs": [],
   "source": [
    "a='india'"
   ]
  },
  {
   "cell_type": "code",
   "execution_count": 21,
   "id": "66d65b66-b523-471e-98ba-dcf977e770e5",
   "metadata": {},
   "outputs": [
    {
     "data": {
      "text/plain": [
       "'india'"
      ]
     },
     "execution_count": 21,
     "metadata": {},
     "output_type": "execute_result"
    }
   ],
   "source": [
    "a"
   ]
  },
  {
   "cell_type": "code",
   "execution_count": 22,
   "id": "14148d6e-20d7-4932-b1ee-738c148a2293",
   "metadata": {},
   "outputs": [
    {
     "data": {
      "text/plain": [
       "'INDIA'"
      ]
     },
     "execution_count": 22,
     "metadata": {},
     "output_type": "execute_result"
    }
   ],
   "source": [
    "a.upper()"
   ]
  },
  {
   "cell_type": "code",
   "execution_count": 23,
   "id": "0757cbcc-c079-4066-a1e7-ad25bef60c70",
   "metadata": {},
   "outputs": [],
   "source": [
    "d[101]={50:[7,8,9,10],'apple':(20,10,70,[90.100,270])}"
   ]
  },
  {
   "cell_type": "code",
   "execution_count": 24,
   "id": "c42cbc8d-9aad-43f8-9531-f0caef461dbe",
   "metadata": {},
   "outputs": [
    {
     "data": {
      "text/plain": [
       "{103: 'India',\n",
       " 'B': 2,\n",
       " 101: {50: [7, 8, 9, 10], 'apple': (20, 10, 70, [90.1, 270])},\n",
       " 104: [200, 3000, 4000, 5000]}"
      ]
     },
     "execution_count": 24,
     "metadata": {},
     "output_type": "execute_result"
    }
   ],
   "source": [
    "d"
   ]
  },
  {
   "cell_type": "code",
   "execution_count": 28,
   "id": "9e076e91-2822-4139-be0b-c1df7017c0ad",
   "metadata": {},
   "outputs": [],
   "source": [
    "d[101]={'a':{30,50,70},'b':(100,5000,7000,9000), 'c':['k',{'L':[11,22],'M':(77,88)}, 'N']}"
   ]
  },
  {
   "cell_type": "code",
   "execution_count": 29,
   "id": "501c78a9-5f04-45e5-9dbd-e92b0b9c3aa4",
   "metadata": {},
   "outputs": [
    {
     "data": {
      "text/plain": [
       "{103: 'India',\n",
       " 'B': 2,\n",
       " 101: {'a': {30, 50, 70},\n",
       "  'b': (100, 5000, 7000, 9000),\n",
       "  'c': ['k', {'L': [11, 22], 'M': (77, 88)}, 'N']},\n",
       " 104: [200, 3000, 4000, 5000]}"
      ]
     },
     "execution_count": 29,
     "metadata": {},
     "output_type": "execute_result"
    }
   ],
   "source": [
    "d"
   ]
  },
  {
   "cell_type": "code",
   "execution_count": 37,
   "id": "718d4e2c-b76c-4fdc-a888-65ea7c4dbaeb",
   "metadata": {},
   "outputs": [
    {
     "data": {
      "text/plain": [
       "'India'"
      ]
     },
     "execution_count": 37,
     "metadata": {},
     "output_type": "execute_result"
    }
   ],
   "source": [
    "d[103]"
   ]
  },
  {
   "cell_type": "code",
   "execution_count": 43,
   "id": "334df9f3-85a0-4e29-8a58-4f14fcd61a91",
   "metadata": {},
   "outputs": [
    {
     "data": {
      "text/plain": [
       "4000"
      ]
     },
     "execution_count": 43,
     "metadata": {},
     "output_type": "execute_result"
    }
   ],
   "source": [
    "d[104][2]"
   ]
  },
  {
   "cell_type": "code",
   "execution_count": null,
   "id": "f39068a6-7c48-4954-b042-7be0b6a85e10",
   "metadata": {},
   "outputs": [],
   "source": []
  },
  {
   "cell_type": "code",
   "execution_count": null,
   "id": "1ffa3e46-9987-46d7-891c-1ccd6be5c342",
   "metadata": {},
   "outputs": [],
   "source": []
  },
  {
   "cell_type": "code",
   "execution_count": null,
   "id": "55eb355e-e464-4f41-8997-9434d5cb9266",
   "metadata": {},
   "outputs": [],
   "source": []
  },
  {
   "cell_type": "code",
   "execution_count": null,
   "id": "cf99e37c-f077-4c55-9da9-c8453aa08740",
   "metadata": {},
   "outputs": [],
   "source": []
  },
  {
   "cell_type": "code",
   "execution_count": null,
   "id": "976e96b2-220a-4f38-a40e-28af527d2484",
   "metadata": {},
   "outputs": [],
   "source": []
  },
  {
   "cell_type": "code",
   "execution_count": null,
   "id": "91eb5da8-2b32-4712-bfd5-c0d6b9d2c77e",
   "metadata": {},
   "outputs": [],
   "source": []
  },
  {
   "cell_type": "code",
   "execution_count": null,
   "id": "eee1564a-ca51-4c8a-9aac-0b01adfc66d2",
   "metadata": {},
   "outputs": [],
   "source": []
  },
  {
   "cell_type": "code",
   "execution_count": null,
   "id": "4abafa41-a3ea-408f-a5e0-ed6c3609a759",
   "metadata": {},
   "outputs": [],
   "source": []
  },
  {
   "cell_type": "code",
   "execution_count": null,
   "id": "10253bcf-39f7-42c4-b458-aa553a6cd340",
   "metadata": {},
   "outputs": [],
   "source": []
  },
  {
   "cell_type": "code",
   "execution_count": null,
   "id": "2af8f2b7-d3e9-417b-bcea-e01cbadf7199",
   "metadata": {},
   "outputs": [],
   "source": []
  },
  {
   "cell_type": "code",
   "execution_count": null,
   "id": "d55fc7fb-d692-4a12-bd63-6ec15f398ac8",
   "metadata": {},
   "outputs": [],
   "source": []
  },
  {
   "cell_type": "code",
   "execution_count": null,
   "id": "6da6c3e4-196e-46b5-9edf-3be71bf5572d",
   "metadata": {},
   "outputs": [],
   "source": []
  },
  {
   "cell_type": "code",
   "execution_count": null,
   "id": "087ffbfa-1b30-4a00-a172-85a0f7ab84fc",
   "metadata": {},
   "outputs": [],
   "source": []
  },
  {
   "cell_type": "code",
   "execution_count": null,
   "id": "9233bc80-1f73-4118-91c1-b0c5f4b22567",
   "metadata": {},
   "outputs": [],
   "source": []
  },
  {
   "cell_type": "code",
   "execution_count": null,
   "id": "c1d1755f-e8d8-4f01-a784-a1ad173534da",
   "metadata": {},
   "outputs": [],
   "source": []
  },
  {
   "cell_type": "code",
   "execution_count": null,
   "id": "aece984a-cd48-4281-82df-81dd9b91ca0d",
   "metadata": {},
   "outputs": [],
   "source": []
  },
  {
   "cell_type": "code",
   "execution_count": null,
   "id": "76d21071-598d-4593-9608-ba364e35350e",
   "metadata": {},
   "outputs": [],
   "source": []
  },
  {
   "cell_type": "code",
   "execution_count": null,
   "id": "08b30738-cacc-437f-a624-c5898e9c1e89",
   "metadata": {},
   "outputs": [],
   "source": []
  },
  {
   "cell_type": "code",
   "execution_count": null,
   "id": "f388f2fa-f250-4471-8a0f-5dc43d468d8b",
   "metadata": {},
   "outputs": [],
   "source": []
  }
 ],
 "metadata": {
  "kernelspec": {
   "display_name": "Python 3 (ipykernel)",
   "language": "python",
   "name": "python3"
  },
  "language_info": {
   "codemirror_mode": {
    "name": "ipython",
    "version": 3
   },
   "file_extension": ".py",
   "mimetype": "text/x-python",
   "name": "python",
   "nbconvert_exporter": "python",
   "pygments_lexer": "ipython3",
   "version": "3.12.7"
  }
 },
 "nbformat": 4,
 "nbformat_minor": 5
}
