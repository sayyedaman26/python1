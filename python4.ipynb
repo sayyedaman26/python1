{
 "cells": [
  {
   "cell_type": "code",
   "execution_count": 1,
   "id": "a15a86d9-d319-4aa3-b0d6-749485b19608",
   "metadata": {},
   "outputs": [
    {
     "data": {
      "text/plain": [
       "[40, 20, 80, 50, 30, 60, 90]"
      ]
     },
     "execution_count": 1,
     "metadata": {},
     "output_type": "execute_result"
    }
   ],
   "source": [
    "y=[40,20,80,50,30,60,90]\n",
    "y"
   ]
  },
  {
   "cell_type": "code",
   "execution_count": 3,
   "id": "24d674bb-8da9-4175-9f20-cd021657046f",
   "metadata": {},
   "outputs": [
    {
     "data": {
      "text/plain": [
       "[40, 20, 80, 50, 30, 60, 90, 40, 20, 80, 50, 30, 60, 90]"
      ]
     },
     "execution_count": 3,
     "metadata": {},
     "output_type": "execute_result"
    }
   ],
   "source": [
    "y*2"
   ]
  },
  {
   "cell_type": "code",
   "execution_count": 5,
   "id": "89a0a784-ce4f-4c93-ab93-008c0645bff3",
   "metadata": {},
   "outputs": [
    {
     "name": "stdout",
     "output_type": "stream",
     "text": [
      "40\n",
      "20\n",
      "80\n",
      "50\n",
      "30\n",
      "60\n",
      "90\n"
     ]
    }
   ],
   "source": [
    "for i in y:\n",
    "    print(i)"
   ]
  },
  {
   "cell_type": "code",
   "execution_count": 6,
   "id": "5b49fb21-7721-4f3e-9a24-b7814d3d6370",
   "metadata": {},
   "outputs": [
    {
     "name": "stdout",
     "output_type": "stream",
     "text": [
      "7200\n"
     ]
    }
   ],
   "source": [
    "print(i*80)"
   ]
  },
  {
   "cell_type": "code",
   "execution_count": 8,
   "id": "dc21a2f9-7833-44c7-9160-930cd7a193fe",
   "metadata": {},
   "outputs": [],
   "source": [
    "inr=[]\n",
    "for i in y:\n",
    "    inr.append(i*5)\n",
    "    "
   ]
  },
  {
   "cell_type": "code",
   "execution_count": 9,
   "id": "e5ac6c40-87e4-4526-92b6-f10e6bf5ab02",
   "metadata": {},
   "outputs": [
    {
     "data": {
      "text/plain": [
       "[40, 20, 80, 50, 30, 60, 90]"
      ]
     },
     "execution_count": 9,
     "metadata": {},
     "output_type": "execute_result"
    }
   ],
   "source": [
    "y"
   ]
  },
  {
   "cell_type": "code",
   "execution_count": 10,
   "id": "ed28b21b-1d21-43e8-91a4-c3614166516c",
   "metadata": {},
   "outputs": [
    {
     "data": {
      "text/plain": [
       "[31, 45, 66, 30, 90, 78, 67, 87, 89, 93, 25, 59, 9, 81]"
      ]
     },
     "execution_count": 10,
     "metadata": {},
     "output_type": "execute_result"
    }
   ],
   "source": [
    "num=[31,45,66,30,90,78,67,87,89,93,25,59,9,81]\n",
    "num"
   ]
  },
  {
   "cell_type": "code",
   "execution_count": 16,
   "id": "f499fb5a-3b0c-423b-ac7b-e4d9be93d6e0",
   "metadata": {},
   "outputs": [
    {
     "name": "stdout",
     "output_type": "stream",
     "text": [
      "66 30 90 78\n",
      "66 30 90 78\n",
      "66 30 90 78\n",
      "66 30 90 78\n",
      "66 30 90 78\n",
      "66 30 90 78\n",
      "66 30 90 78\n",
      "66 30 90 78\n",
      "66 30 90 78\n",
      "66 30 90 78\n",
      "66 30 90 78\n",
      "66 30 90 78\n",
      "66 30 90 78\n",
      "66 30 90 78\n"
     ]
    }
   ],
   "source": [
    "for i in num:\n",
    "    print(66,30,90,78)"
   ]
  },
  {
   "cell_type": "code",
   "execution_count": 17,
   "id": "93673d57-d97d-4e61-8034-c8466cf160be",
   "metadata": {},
   "outputs": [],
   "source": [
    "j=[]\n",
    "k=[]\n",
    "for i in num:\n",
    "    if i%2==0:\n",
    "        j.append(i)\n",
    "    else:\n",
    "        k.append(i)"
   ]
  },
  {
   "cell_type": "code",
   "execution_count": 18,
   "id": "528c1d8c-3330-41fe-bf37-bef06db16af4",
   "metadata": {},
   "outputs": [
    {
     "data": {
      "text/plain": [
       "[31, 45, 67, 87, 89, 93, 25, 59, 9, 81]"
      ]
     },
     "execution_count": 18,
     "metadata": {},
     "output_type": "execute_result"
    }
   ],
   "source": [
    "k"
   ]
  },
  {
   "cell_type": "code",
   "execution_count": 19,
   "id": "72b0c5a7-04db-47bc-a313-b8319d80b68c",
   "metadata": {},
   "outputs": [
    {
     "data": {
      "text/plain": [
       "[66, 30, 90, 78]"
      ]
     },
     "execution_count": 19,
     "metadata": {},
     "output_type": "execute_result"
    }
   ],
   "source": [
    "j"
   ]
  },
  {
   "cell_type": "code",
   "execution_count": 20,
   "id": "13852898-f2a1-4ed2-a453-65ab4bd8fbb2",
   "metadata": {},
   "outputs": [
    {
     "data": {
      "text/plain": [
       "[31, 45, 66, 93, 90, 78, 67, 87, 89, 93, 25, 59, 49, 81]"
      ]
     },
     "execution_count": 20,
     "metadata": {},
     "output_type": "execute_result"
    }
   ],
   "source": [
    "num=[31,45,66,93,90,78,67,87,89,93,25,59,49,81]\n",
    "num"
   ]
  },
  {
   "cell_type": "code",
   "execution_count": null,
   "id": "1b35d6fe-6136-4356-80d1-093c4c71dba2",
   "metadata": {},
   "outputs": [],
   "source": []
  }
 ],
 "metadata": {
  "kernelspec": {
   "display_name": "Python 3 (ipykernel)",
   "language": "python",
   "name": "python3"
  },
  "language_info": {
   "codemirror_mode": {
    "name": "ipython",
    "version": 3
   },
   "file_extension": ".py",
   "mimetype": "text/x-python",
   "name": "python",
   "nbconvert_exporter": "python",
   "pygments_lexer": "ipython3",
   "version": "3.12.7"
  }
 },
 "nbformat": 4,
 "nbformat_minor": 5
}
